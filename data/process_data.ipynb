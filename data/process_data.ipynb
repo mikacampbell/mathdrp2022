{
 "cells": [
  {
   "cell_type": "code",
   "execution_count": null,
   "id": "curious-ecology",
   "metadata": {},
   "outputs": [],
   "source": [
    "import pandas as pd"
   ]
  },
  {
   "cell_type": "code",
   "execution_count": null,
   "id": "handy-schedule",
   "metadata": {},
   "outputs": [],
   "source": [
    "raw_flu = pd.read_csv(\"FluNetInteractiveReport.csv\", header=2)"
   ]
  },
  {
   "cell_type": "code",
   "execution_count": null,
   "id": "cathedral-victoria",
   "metadata": {},
   "outputs": [],
   "source": [
    "raw_flu.columns"
   ]
  },
  {
   "cell_type": "code",
   "execution_count": null,
   "id": "assisted-fault",
   "metadata": {},
   "outputs": [],
   "source": [
    "keep_cols = [\"Country\", \"Year\", \"Week\", \"SDATE\", \"EDATE\", \"INF_A\", \"INF_B\", \"ALL_INF\"]"
   ]
  },
  {
   "cell_type": "code",
   "execution_count": null,
   "id": "popular-treaty",
   "metadata": {},
   "outputs": [],
   "source": [
    "which_countries = [\"Cuba\", \"Dominican Republic\", \"Haiti\" ,\"Jamaica\", \"Mexico\", \"Trinidad and Tobago\"]"
   ]
  },
  {
   "cell_type": "code",
   "execution_count": null,
   "id": "sound-addition",
   "metadata": {},
   "outputs": [],
   "source": [
    "flu_processed = (raw_flu\n",
    " [keep_cols]\n",
    " [raw_flu.Country.isin(which_countries)]\n",
    ")"
   ]
  },
  {
   "cell_type": "code",
   "execution_count": null,
   "id": "japanese-transaction",
   "metadata": {},
   "outputs": [],
   "source": [
    "flu_processed.to_csv(\"Flu_Caribbean.csv\", index=False)"
   ]
  }
 ],
 "metadata": {
  "kernelspec": {
   "display_name": "Python 3",
   "language": "python",
   "name": "python3"
  },
  "language_info": {
   "codemirror_mode": {
    "name": "ipython",
    "version": 3
   },
   "file_extension": ".py",
   "mimetype": "text/x-python",
   "name": "python",
   "nbconvert_exporter": "python",
   "pygments_lexer": "ipython3",
   "version": "3.8.8"
  }
 },
 "nbformat": 4,
 "nbformat_minor": 5
}
